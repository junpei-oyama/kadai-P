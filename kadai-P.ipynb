{
 "cells": [
  {
   "cell_type": "markdown",
   "metadata": {},
   "source": [
    "# 学習の流れ"
   ]
  },
  {
   "cell_type": "markdown",
   "metadata": {},
   "source": [
    "## 機械学習の基本的な流れ"
   ]
  },
  {
   "cell_type": "markdown",
   "metadata": {},
   "source": [
    "### ①過程をモデルとして表現する"
   ]
  },
  {
   "cell_type": "markdown",
   "metadata": {},
   "source": [
    "線形回帰やロジスティック回帰を行ってモデルを構築する  \n",
    "\n",
    "例）$ y = w_{0} + w_{1}x$ 　　　(モデルが直線関係の場合)"
   ]
  },
  {
   "cell_type": "markdown",
   "metadata": {},
   "source": [
    "### ②重みを求める"
   ]
  },
  {
   "cell_type": "markdown",
   "metadata": {},
   "source": [
    "- 損失を定義  \n",
    "損失関数：予測と真の値とのズレを表す関数\n",
    "\n",
    "        例) 二乗誤差、交差エントロピー誤差 など\n",
    "\n",
    "- 損失を最小化する重みを探す（最適化）  \n",
    "上記の損失関数を最小化するように重みを更新していくことによって、モデルの予測が真の値に近づいてく。  \n",
    "●最適化アルゴリズム  \n",
    "    - バッチ勾配降下法  \n",
    "        全てのデータに対して損失関数の勾配を計算する。その後、更新の規模（大きさ）を決める学習率を用いて重みの更新を行う。\n",
    "    - ミニバッチ勾配降下法  \n",
    "        全てのデータではなく、一部のデータを使用して勾配を計算し重みの更新を行う。\n",
    "    - 確率的勾配降下法（SGD）  \n",
    "        バッチ勾配降下法とは対照的に、1回の更新で全データではなく、1つのデータのみを使用して更新を行う。  \n",
    "●誤差逆伝搬\n",
    "    - 予測した値と真の値との誤差から、その計算結果を前の層に用いることによって重みの更新を行っていくこと。"
   ]
  },
  {
   "cell_type": "markdown",
   "metadata": {},
   "source": [
    "### ③モデルの性能評価"
   ]
  },
  {
   "cell_type": "markdown",
   "metadata": {},
   "source": [
    "未知のデータに対し、構築・最適化したモデルを用いて予測を行い、その損失の大きさを確認する。"
   ]
  },
  {
   "cell_type": "markdown",
   "metadata": {},
   "source": [
    "## バッチ学習とミニバッチ学習"
   ]
  },
  {
   "cell_type": "markdown",
   "metadata": {},
   "source": [
    "バッチ学習\n",
    "   - 1エポックにつき、データ全体に対して学習を行う。"
   ]
  },
  {
   "cell_type": "markdown",
   "metadata": {},
   "source": [
    "ミニバッチ学習\n",
    "   - 1エポックにつき、一部のデータに対して学習を行う。\n",
    "   - バッチサイズを指定することで、データの中からバッチで指定した数のデータで学習を行い、組み合わせを変えながらデータ数分だけ行う。\n",
    "   - 100個のデータで20バッチなら、100から適当な20個を選んで学習し、これを5回繰り返す。（これで1エポック）"
   ]
  },
  {
   "cell_type": "markdown",
   "metadata": {},
   "source": []
  },
  {
   "cell_type": "markdown",
   "metadata": {},
   "source": []
  },
  {
   "cell_type": "markdown",
   "metadata": {},
   "source": []
  }
 ],
 "metadata": {
  "kernelspec": {
   "display_name": "Python 3",
   "language": "python",
   "name": "python3"
  },
  "language_info": {
   "codemirror_mode": {
    "name": "ipython",
    "version": 3
   },
   "file_extension": ".py",
   "mimetype": "text/x-python",
   "name": "python",
   "nbconvert_exporter": "python",
   "pygments_lexer": "ipython3",
   "version": "3.7.3"
  },
  "toc": {
   "base_numbering": 1,
   "nav_menu": {},
   "number_sections": true,
   "sideBar": true,
   "skip_h1_title": false,
   "title_cell": "Table of Contents",
   "title_sidebar": "Contents",
   "toc_cell": false,
   "toc_position": {},
   "toc_section_display": true,
   "toc_window_display": false
  }
 },
 "nbformat": 4,
 "nbformat_minor": 2
}
